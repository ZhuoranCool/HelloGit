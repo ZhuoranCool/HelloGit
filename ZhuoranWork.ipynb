{
 "cells": [
  {
   "cell_type": "code",
   "execution_count": 3,
   "metadata": {},
   "outputs": [
    {
     "name": "stdin",
     "output_type": "stream",
     "text": [
      "What's your name? ZZZ\n",
      "What's your birthday day? 15\n",
      "What's your birthday month? 10\n",
      "What's your birthday year? 2002\n"
     ]
    },
    {
     "name": "stdout",
     "output_type": "stream",
     "text": [
      "Hi ZZZ, part of your identification part would be 20021015\n"
     ]
    }
   ],
   "source": [
    "name=input(\"What's your name?\")\n",
    "day=input(\"What's your birthday day?\")\n",
    "if(len(day)==1):\n",
    "    day=\"0\"+day\n",
    "month=input(\"What's your birthday month?\")\n",
    "if(len(month)==1):\n",
    "    month=\"0\"+month\n",
    "year=input(\"What's your birthday year?\")\n",
    "print(f\"Hi {name}, part of your identification part would be {year}{month}{day}\")"
   ]
  },
  {
   "cell_type": "code",
   "execution_count": null,
   "metadata": {},
   "outputs": [],
   "source": []
  }
 ],
 "metadata": {
  "kernelspec": {
   "display_name": "Python 3",
   "language": "python",
   "name": "python3"
  },
  "language_info": {
   "codemirror_mode": {
    "name": "ipython",
    "version": 3
   },
   "file_extension": ".py",
   "mimetype": "text/x-python",
   "name": "python",
   "nbconvert_exporter": "python",
   "pygments_lexer": "ipython3",
   "version": "3.8.3"
  }
 },
 "nbformat": 4,
 "nbformat_minor": 4
}
