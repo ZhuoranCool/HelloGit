{
 "cells": [
  {
   "cell_type": "code",
   "execution_count": 6,
   "metadata": {},
   "outputs": [
    {
     "name": "stdin",
     "output_type": "stream",
     "text": [
      "What is your name? s\n",
      "How many feet tall are you? 5\n",
      "You are 5 feet tall and how many inches? 6.5\n"
     ]
    },
    {
     "name": "stdout",
     "output_type": "stream",
     "text": [
      "Hello, s. You are 168.91 centimeters tall.\n"
     ]
    }
   ],
   "source": [
    "name=(input(prompt=\"What is your name?\"))\n",
    "feet=int(input(prompt=\"How many feet tall are you?\"))\n",
    "inches=float(input(prompt=\"You are \" + str(feet) + \" feet tall and how many inches?\"))\n",
    "cm=(((feet*12)+inches) * 2.54)\n",
    "\n",
    "print(\"Hello, \" + name + \". You are \" + str(cm) + \" centimeters tall.\")"
   ]
  },
  {
   "cell_type": "code",
   "execution_count": null,
   "metadata": {},
   "outputs": [],
   "source": []
  }
 ],
 "metadata": {
  "kernelspec": {
   "display_name": "Python 3",
   "language": "python",
   "name": "python3"
  },
  "language_info": {
   "codemirror_mode": {
    "name": "ipython",
    "version": 3
   },
   "file_extension": ".py",
   "mimetype": "text/x-python",
   "name": "python",
   "nbconvert_exporter": "python",
   "pygments_lexer": "ipython3",
   "version": "3.8.3"
  }
 },
 "nbformat": 4,
 "nbformat_minor": 4
}
