{
 "cells": [
  {
   "cell_type": "code",
   "execution_count": null,
   "metadata": {},
   "outputs": [],
   "source": [
    "xres,yres=int(input(\"Enter X resolution: \")),int(input(\"Enter Y resolution: \"))\n",
    "xupper,xlower,yupper,ylower=float(input(\"Enter X upper bound: \")),float(input(\"Enter X lower bound: \")),float(input(\"Enter Y upper bound: \")),float(input(\"Enter Y lower bound: \"))\n",
    "print(\"\\n\".join((\" \".join([\" .:-=+*#%@\"\n",
    "[sum(i for i in iter(\n",
    "lambda z=[0],c=x+y*1j,i=[0]:\n",
    "(z.append(\n",
    "    (abs(z[-1].real)\n",
    "    +abs(z[-1].imag)*1j)**2+c\n",
    "   ),z.pop(0),\n",
    " i.append(i[-1]+1),i.pop(0),\n",
    "abs(z[-1])<2 and i<[10])[-1],False))]\n",
    "for x in [(i/xres)*(xupper-xlower)+xlower for i in range((xres))]])\n",
    "for y in [(i/yres)*(yupper-ylower)+ylower for i in range((yres))])))"
   ]
  }
 ],
 "metadata": {
  "language_info": {
   "name": "python"
  }
 },
 "nbformat": 4,
 "nbformat_minor": 2
}
